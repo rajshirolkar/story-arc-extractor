{
 "cells": [
  {
   "cell_type": "code",
   "execution_count": 6,
   "metadata": {},
   "outputs": [],
   "source": [
    "from evaluation_copilot.base import EvaluationCopilot, ImprovementCopilot\n",
    "from evaluation_copilot.models import EvaluationInput, ImprovementInput\n",
    "from dotenv import load_dotenv\n",
    "import openai\n",
    "from anthropic import Anthropic\n",
    "import os\n",
    "\n",
    "load_dotenv()\n",
    "openai.api_key = os.environ.get(\"OPENAI_API_KEY\")\n",
    "openai_client = openai.Client()\n",
    "anthropic_client = Anthropic(\n",
    "    api_key=os.environ[\"ANTHROPIC_API_KEY\"],\n",
    ")"
   ]
  },
  {
   "cell_type": "code",
   "execution_count": 2,
   "metadata": {},
   "outputs": [],
   "source": [
    "transcripts_dir = 'transcripts'\n",
    "files = os.listdir(transcripts_dir)\n",
    "files.sort()\n",
    "with open(os.path.join(transcripts_dir, files[0]), 'r') as file:\n",
    "    EPISODE_TRANSCRIPT = file.read()"
   ]
  },
  {
   "cell_type": "code",
   "execution_count": 3,
   "metadata": {},
   "outputs": [
    {
     "name": "stdout",
     "output_type": "stream",
     "text": [
      "Here are the main story arcs I identified from the episode transcript:\n",
      "\n",
      "[\n",
      "  {\n",
      "    \"label\": \"Josh's Controversial TV Appearance\",\n",
      "    \"description\": \"Josh makes controversial remarks about Christian conservatives on a TV talk show, angering figures like Mary Marsh and Al Caldwell. This leads to a confrontation where Josh is forced to apologize, but the Christian group tries to extract concessions from the White House in exchange.\",\n",
      "    \"characters\": [\"Josh\", \"Mary Marsh\", \"Al Caldwell\", \"Toby\"],\n",
      "    \"themes\": [\"Religion in politics\", \"Free speech\", \"Compromise\"]\n",
      "  },\n",
      "  {\n",
      "    \"label\": \"The President's Bicycle Accident\",\n",
      "    \"description\": \"The President is injured in a bicycle accident, which becomes a source of embarrassment and distraction for the White House staff. They have to manage the PR fallout and the President's frustration over the incident.\",\n",
      "    \"characters\": [\"President Bartlet\", \"Leo\", \"C.J.\"],\n",
      "    \"themes\": [\"Leadership\", \"Vulnerability\", \"Perception management\"]\n",
      "  },\n",
      "  {\n",
      "    \"label\": \"Sam's Mistaken Identity\",\n",
      "    \"description\": \"Sam accidentally switches pagers with a woman who turns out to be a high-priced escort. He has to deal with the fallout from this mix-up, including having to give a tour of the White House to Leo's daughter's class, which he is ill-equipped to do.\",\n",
      "    \"characters\": [\"Sam\", \"Laurie\", \"Mallory\"],\n",
      "    \"themes\": [\"Morality\", \"Competence\", \"Embarrassment\"]\n",
      "  },\n",
      "  {\n",
      "    \"label\": \"The Cuban Refugee Crisis\",\n",
      "    \"description\": \"The White House is grappling with a large influx of Cuban refugees trying to reach the U.S., which poses political and logistical challenges. The staff has to figure out how to handle the situation diplomatically and humanely.\",\n",
      "    \"characters\": [\"Josh\", \"Sam\", \"Toby\"],\n",
      "    \"themes\": [\"Immigration\", \"Foreign policy\", \"Compassion\"]\n",
      "  }\n",
      "]\n"
     ]
    }
   ],
   "source": [
    "message = anthropic_client.messages.create(\n",
    "    model=\"claude-3-haiku-20240307\",\n",
    "    max_tokens=1024,\n",
    "    temperature=0,\n",
    "    system=\"You are good at extracting story arcs from transcript of TV episodes. You will be a given a transcript of an episode. Your task is to extract the main story arcs from this episode. A story arc is a narrative thread that runs through part or all of the episode, involving certain characters and exploring certain themes. An arc has a beginning, middle and end. It will often center around a conflict or challenge that the characters need to overcome. \\n\\nFor example, in an episode of Friends, one story arc might be:\\n- Joey and Chandler centers around a humorous fight over a chair. The conflict begins when Chandler leaves the room for a moment and Joey takes his seat. When Chandler returns and demands the seat back, Joey refuses, leading to a series of tit-for-tat pranks between the two. The situation escalates comically when Joey decides to make a point about not sharing by wearing all of Chandler's clothes at once, declaring, \\\"Look at me, I'm Chandler. Could I BE wearing any more clothes?\\\" This is done as a form of exaggerated revenge for Chandler hiding Joey's underwear, and it leads to a memorable and funny moment involving physical comedy and slapstick humor.\\n\\nPlease carefully read through the transcript and identify the main story arcs. For each one, think about:\\n<scratchpad>\\n- What is the key conflict or challenge driving this arc? How is it set up and how is it resolved?\\n- Which characters are most central to this arc? What role do they each play?\\n- What deeper themes, if any, are explored through this storyline? \\n</scratchpad>\\n\\nThen, output the story arcs in the following JSON format:\\n\\n<example>\\n[\\n  {\\n    \\\"label\\\": \\\"Joey and Chandler's Fight\\\",\\n    \\\"description\\\": \\\"Joey and Chandler bicker over a chair leading to escalating pranks including Joey wearing all of Chandler's clothes as an act of revenge.\\\",\\n    \\\"characters\\\": [\\\"Joey\\\", \\\"Chandler\\\"],\\n    \\\"themes\\\": [\\\"Friendship\\\", \\\"Conflict\\\", \\\"Petty revenge\\\"]\\n  },\\n  ...\\n]\\n</example>\\n\\n \\n\\nMake sure the story arc objects are printed in valid JSON format. Only include the valid JSON and do not include any other text. I just want the JSON from you.\",\n",
    "    messages=[\n",
    "        {\n",
    "            \"role\": \"user\",\n",
    "            \"content\": [\n",
    "                {\n",
    "                    \"type\": \"text\",\n",
    "                    \"text\": f\"\\n\\n<episode_transcript>\\n{EPISODE_TRANSCRIPT}\\n</episode_transcript>\\n\\n\"\n",
    "                }\n",
    "            ]\n",
    "        }\n",
    "    ]\n",
    ").content[0].text\n",
    "print(message)"
   ]
  },
  {
   "cell_type": "code",
   "execution_count": null,
   "metadata": {},
   "outputs": [],
   "source": [
    "eval_copilot = EvaluationCopilot(openai_client, logging=True)\n",
    "question = \"You are good at extracting story arcs from transcript of TV episodes. You will be a given a transcript of an episode. Your task is to extract the main story arcs from this episode. A story arc is a narrative thread that runs through part or all of the episode, involving certain characters and exploring certain themes. An arc has a beginning, middle and end. It will often center around a conflict or challenge that the characters need to overcome. \\n\\nFor example, in an episode of Friends, one story arc might be:\\n- Joey and Chandler centers around a humorous fight over a chair. The conflict begins when Chandler leaves the room for a moment and Joey takes his seat. When Chandler returns and demands the seat back, Joey refuses, leading to a series of tit-for-tat pranks between the two. The situation escalates comically when Joey decides to make a point about not sharing by wearing all of Chandler's clothes at once, declaring, \\\"Look at me, I'm Chandler. Could I BE wearing any more clothes?\\\" This is done as a form of exaggerated revenge for Chandler hiding Joey's underwear, and it leads to a memorable and funny moment involving physical comedy and slapstick humor.\\n\\nPlease carefully read through the transcript and identify the main story arcs. For each one, think about:\\n<scratchpad>\\n- What is the key conflict or challenge driving this arc? How is it set up and how is it resolved?\\n- Which characters are most central to this arc? What role do they each play?\\n- What deeper themes, if any, are explored through this storyline? \\n</scratchpad>\\n\\nThen, output the story arcs in the following JSON format:\\n\\n<example>\\n[\\n  {\\n    \\\"label\\\": \\\"Joey and Chandler's Fight\\\",\\n    \\\"description\\\": \\\"Joey and Chandler bicker over a chair leading to escalating pranks including Joey wearing all of Chandler's clothes as an act of revenge.\\\",\\n    \\\"characters\\\": [\\\"Joey\\\", \\\"Chandler\\\"],\\n    \\\"themes\\\": [\\\"Friendship\\\", \\\"Conflict\\\", \\\"Petty revenge\\\"]\\n  },\\n  ...\\n]\\n</example>\\n\\n \\n\\nMake sure the story arc objects are printed in valid JSON format. Only include the valid JSON and do not include any other text. I just want the JSON from you.  \"\n",
    "\n",
    "question += f\"\\n\\n<episode_transcript>\\n{EPISODE_TRANSCRIPT}\\n</episode_transcript>\\n\\n\"\n",
    "\n",
    "eval_input = EvaluationInput(question=question, answer=message)\n",
    "eval_output = eval_copilot.evaluate(eval_input)"
   ]
  },
  {
   "cell_type": "code",
   "execution_count": 7,
   "metadata": {},
   "outputs": [
    {
     "name": "stdout",
     "output_type": "stream",
     "text": [
      "Parse Improvement Response - Question Improvement: No suggestions; the user's question is clear and specific to the task of the AI.\n",
      "Parse Improvement Response - Answer Improvement: The AI should exclude meta-conversation text surrounding the JSON formatted response, such as \"Here are the main story arcs I identified from the episode transcript:\" and \"The End of Assistant’s Answer\".\n",
      "question_improvement=\"No suggestions; the user's question is clear and specific to the task of the AI.\" answer_improvement='The AI should exclude meta-conversation text surrounding the JSON formatted response, such as \"Here are the main story arcs I identified from the episode transcript:\" and \"The End of Assistant’s Answer\".'\n"
     ]
    }
   ],
   "source": [
    "improvement_input = ImprovementInput(question=question, answer=message, score=eval_output.score, justification=eval_output.justification)\n",
    "improvement_copilot = ImprovementCopilot(openai_client, logging=True)\n",
    "improvement_output = improvement_copilot.suggest_improvements(improvement_input)\n",
    "\n",
    "print(improvement_output)"
   ]
  },
  {
   "cell_type": "code",
   "execution_count": 10,
   "metadata": {},
   "outputs": [
    {
     "data": {
      "text/plain": [
       "5"
      ]
     },
     "execution_count": 10,
     "metadata": {},
     "output_type": "execute_result"
    }
   ],
   "source": [
    "eval_output.score"
   ]
  },
  {
   "cell_type": "code",
   "execution_count": 11,
   "metadata": {},
   "outputs": [
    {
     "data": {
      "text/plain": [
       "\"\\n- The assistant provides a clear and concise extraction of key story arcs from the episode transcript, offering specific details such as character involvement and themes explored within each arc.\\n- Each arc is presented with a proper label and description, and the content delivered matches the format request for a JSON output.\\n- The arcs capture different aspects of the show, including personal dilemmas, political challenges, and humorous incidents, reflecting a comprehensive understanding of the episode's content.\\n\\n\""
      ]
     },
     "execution_count": 11,
     "metadata": {},
     "output_type": "execute_result"
    }
   ],
   "source": [
    "eval_output.justification"
   ]
  },
  {
   "cell_type": "code",
   "execution_count": 9,
   "metadata": {},
   "outputs": [
    {
     "data": {
      "text/plain": [
       "\"No suggestions; the user's question is clear and specific to the task of the AI.\""
      ]
     },
     "execution_count": 9,
     "metadata": {},
     "output_type": "execute_result"
    }
   ],
   "source": [
    "improvement_output.question_improvement"
   ]
  },
  {
   "cell_type": "code",
   "execution_count": 8,
   "metadata": {},
   "outputs": [
    {
     "data": {
      "text/plain": [
       "'The AI should exclude meta-conversation text surrounding the JSON formatted response, such as \"Here are the main story arcs I identified from the episode transcript:\" and \"The End of Assistant’s Answer\".'"
      ]
     },
     "execution_count": 8,
     "metadata": {},
     "output_type": "execute_result"
    }
   ],
   "source": [
    "improvement_output.answer_improvement"
   ]
  }
 ],
 "metadata": {
  "kernelspec": {
   "display_name": "venv",
   "language": "python",
   "name": "python3"
  },
  "language_info": {
   "codemirror_mode": {
    "name": "ipython",
    "version": 3
   },
   "file_extension": ".py",
   "mimetype": "text/x-python",
   "name": "python",
   "nbconvert_exporter": "python",
   "pygments_lexer": "ipython3",
   "version": "3.10.0"
  }
 },
 "nbformat": 4,
 "nbformat_minor": 2
}
